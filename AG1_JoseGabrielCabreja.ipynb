{
  "nbformat": 4,
  "nbformat_minor": 0,
  "metadata": {
    "colab": {
      "name": "AG1_JoseGabrielCabreja.ipynb",
      "provenance": [],
      "collapsed_sections": [],
      "authorship_tag": "ABX9TyNf/fYCr7ZKk5+OcsFZDWj2",
      "include_colab_link": true
    },
    "kernelspec": {
      "name": "python3",
      "display_name": "Python 3"
    }
  },
  "cells": [
    {
      "cell_type": "markdown",
      "metadata": {
        "id": "view-in-github",
        "colab_type": "text"
      },
      "source": [
        "<a href=\"https://colab.research.google.com/github/gabcab/AlgoritmosOptimizacion/blob/main/AG1_JoseGabrielCabreja.ipynb\" target=\"_parent\"><img src=\"https://colab.research.google.com/assets/colab-badge.svg\" alt=\"Open In Colab\"/></a>"
      ]
    },
    {
      "cell_type": "markdown",
      "metadata": {
        "id": "Ofrcocl8c9RM"
      },
      "source": [
        "AG1- Actividad Guiada 1<br>\n",
        "Nombre: José Gabriel Cabreja<br>\n",
        "https://github.com/gabcab/AlgoritmosOptimizacion/blob/main/AG1_JoseGabrielCabreja.ipynb\n",
        "\n",
        "https://colab.research.google.com/drive/1tcc8fC2w1-KMEpJ6s_QxuiN-JGiED5vW?usp=sharing"
      ]
    },
    {
      "cell_type": "markdown",
      "metadata": {
        "id": "5lRf4zJ1HEMV"
      },
      "source": [
        "<h1>Divide y venceras</h1>"
      ]
    },
    {
      "cell_type": "code",
      "metadata": {
        "colab": {
          "base_uri": "https://localhost:8080/"
        },
        "id": "h807AsytFRRQ",
        "outputId": "639bafb3-98b3-4747-e525-f8318b3f05eb"
      },
      "source": [
        "#Torres de Hanoi\n",
        "def torres_hanoi(N, desde, hasta):\n",
        "  if N==1:\n",
        "    print(f\"Llevar desde {desde} hasta {hasta}\")\n",
        "  else:\n",
        "    torres_hanoi(N-1, desde, 6-desde-hasta)\n",
        "    print(f\"Llevar desde {desde} hasta {hasta}\")\n",
        "    torres_hanoi(N-1, 6-desde-hasta, hasta)\n",
        "\n",
        "torres_hanoi(4,1,3)"
      ],
      "execution_count": 2,
      "outputs": [
        {
          "output_type": "stream",
          "text": [
            "Llevar desde 1 hasta 2\n",
            "Llevar desde 1 hasta 3\n",
            "Llevar desde 2 hasta 3\n",
            "Llevar desde 1 hasta 2\n",
            "Llevar desde 3 hasta 1\n",
            "Llevar desde 3 hasta 2\n",
            "Llevar desde 1 hasta 2\n",
            "Llevar desde 1 hasta 3\n",
            "Llevar desde 2 hasta 3\n",
            "Llevar desde 2 hasta 1\n",
            "Llevar desde 3 hasta 1\n",
            "Llevar desde 2 hasta 3\n",
            "Llevar desde 1 hasta 2\n",
            "Llevar desde 1 hasta 3\n",
            "Llevar desde 2 hasta 3\n"
          ],
          "name": "stdout"
        }
      ]
    },
    {
      "cell_type": "markdown",
      "metadata": {
        "id": "T8TusjomHnmh"
      },
      "source": [
        "<h1>Algoritmo Voraz Con Python</h1>"
      ]
    },
    {
      "cell_type": "code",
      "metadata": {
        "colab": {
          "base_uri": "https://localhost:8080/"
        },
        "id": "yLhwOY5mGr6I",
        "outputId": "ca00d841-2c28-4b28-fb21-1a91224cc039"
      },
      "source": [
        "#Problema Cambio de Monedas\n",
        "sistemaMonetario = [25, 10, 5, 1]\n",
        "\n",
        "def cambioMonedas(N=1, SM=sistemaMonetario):\n",
        "  valorAcumulado = 0\n",
        "  SOL = [0]*len(SM)\n",
        "\n",
        "  for i,m in enumerate(SM):\n",
        "    monedas = int((N-valorAcumulado)/m)\n",
        "    SOL[i] = monedas\n",
        "    valorAcumulado = valorAcumulado + monedas*m\n",
        "    if valorAcumulado == N:\n",
        "      return SOL\n",
        "\n",
        "print(cambioMonedas(N=124, SM=sistemaMonetario))\n",
        "\n"
      ],
      "execution_count": 6,
      "outputs": [
        {
          "output_type": "stream",
          "text": [
            "[4, 2, 0, 4]\n"
          ],
          "name": "stdout"
        }
      ]
    },
    {
      "cell_type": "markdown",
      "metadata": {
        "id": "birxowxoKShb"
      },
      "source": [
        "<h1>Algoritmo Backtracking(Vuelta atrás)</h1>"
      ]
    },
    {
      "cell_type": "code",
      "metadata": {
        "colab": {
          "base_uri": "https://localhost:8080/",
          "height": 197
        },
        "id": "VOJ2dDUaKej4",
        "outputId": "3120ddbe-b5e9-479d-b730-ae754b57d594"
      },
      "source": [
        "#Problema de las 4 reinas con recursividad\n",
        "def esPrometedora(solucion, etapa):\n",
        "  #Si la solucion tiene dos valores iguales no es valida => Dos reinas en la misma fila\n",
        "  for i in range(etapa+1):\n",
        "    if solucion.count(solucion[1]) > 1:\n",
        "      return False\n",
        "\n",
        "    #Verifica las diagognales\n",
        "    for j in range(i+1, etapa+1):\n",
        "      if abs(i-j) == abs(solucion[i] - solucion[j]):\n",
        "        return False\n",
        "  return True\n",
        "\n",
        "def reinas(N, solucion, etapa):\n",
        "  for i in range(1, N+1):\n",
        "    solucion[etapa] = i\n",
        "\n",
        "    if esPrometedora(solucion, etapa):\n",
        "      if etapa == N-1:\n",
        "        print(\"\\n\\nLa solucion es:\")\n",
        "        print(solucion)\n",
        "        #escribe(solucion)\n",
        "      else:\n",
        "        reinas(N, solucion, etapa+1)\n",
        "    else:\n",
        "      None\n",
        "\n",
        "    solucion[etapa] = 0\n",
        "    \n",
        "reinas(4)"
      ],
      "execution_count": 8,
      "outputs": [
        {
          "output_type": "error",
          "ename": "TypeError",
          "evalue": "ignored",
          "traceback": [
            "\u001b[0;31m---------------------------------------------------------------------------\u001b[0m",
            "\u001b[0;31mTypeError\u001b[0m                                 Traceback (most recent call last)",
            "\u001b[0;32m<ipython-input-8-ecd29d9d82f9>\u001b[0m in \u001b[0;36m<module>\u001b[0;34m()\u001b[0m\n\u001b[1;32m     28\u001b[0m     \u001b[0msolucion\u001b[0m\u001b[0;34m[\u001b[0m\u001b[0metapa\u001b[0m\u001b[0;34m]\u001b[0m \u001b[0;34m=\u001b[0m \u001b[0;36m0\u001b[0m\u001b[0;34m\u001b[0m\u001b[0;34m\u001b[0m\u001b[0m\n\u001b[1;32m     29\u001b[0m \u001b[0;34m\u001b[0m\u001b[0m\n\u001b[0;32m---> 30\u001b[0;31m \u001b[0mreinas\u001b[0m\u001b[0;34m(\u001b[0m\u001b[0;36m4\u001b[0m\u001b[0;34m)\u001b[0m\u001b[0;34m\u001b[0m\u001b[0;34m\u001b[0m\u001b[0m\n\u001b[0m",
            "\u001b[0;31mTypeError\u001b[0m: reinas() missing 2 required positional arguments: 'solucion' and 'etapa'"
          ]
        }
      ]
    }
  ]
}