{
  "nbformat": 4,
  "nbformat_minor": 0,
  "metadata": {
    "colab": {
      "name": "AG1_JoseGabrielCabreja.ipynb",
      "provenance": [],
      "authorship_tag": "ABX9TyOZ4PAlxJ0q+Trnto7mkcPc",
      "include_colab_link": true
    },
    "kernelspec": {
      "name": "python3",
      "display_name": "Python 3"
    }
  },
  "cells": [
    {
      "cell_type": "markdown",
      "metadata": {
        "id": "view-in-github",
        "colab_type": "text"
      },
      "source": [
        "<a href=\"https://colab.research.google.com/github/gabcab/AlgoritmosOptimizacion/blob/main/AG1_JoseGabrielCabreja.ipynb\" target=\"_parent\"><img src=\"https://colab.research.google.com/assets/colab-badge.svg\" alt=\"Open In Colab\"/></a>"
      ]
    },
    {
      "cell_type": "code",
      "metadata": {
        "id": "1SZg_BuqFFZR"
      },
      "source": [
        ""
      ],
      "execution_count": null,
      "outputs": []
    },
    {
      "cell_type": "markdown",
      "metadata": {
        "id": "Ofrcocl8c9RM"
      },
      "source": [
        "AG1- Actividad Guiada 1<br>\n",
        "Nombre: José Gabriel Cabreja<br>\n",
        "\n",
        "\n",
        "https://colab.research.google.com/drive/1tcc8fC2w1-KMEpJ6s_QxuiN-JGiED5vW?usp=sharing"
      ]
    },
    {
      "cell_type": "code",
      "metadata": {
        "id": "h807AsytFRRQ"
      },
      "source": [
        ""
      ],
      "execution_count": null,
      "outputs": []
    }
  ]
}