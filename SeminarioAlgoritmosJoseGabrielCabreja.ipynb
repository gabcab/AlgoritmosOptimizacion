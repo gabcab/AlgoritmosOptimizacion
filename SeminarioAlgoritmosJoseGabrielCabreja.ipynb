{
  "nbformat": 4,
  "nbformat_minor": 0,
  "metadata": {
    "colab": {
      "name": "SeminarioAlgoritmosJoseGabrielCabreja.ipynb",
      "provenance": [],
      "collapsed_sections": [],
      "include_colab_link": true
    },
    "kernelspec": {
      "display_name": "Python 3",
      "language": "python",
      "name": "python3"
    },
    "language_info": {
      "codemirror_mode": {
        "name": "ipython",
        "version": 3
      },
      "file_extension": ".py",
      "mimetype": "text/x-python",
      "name": "python",
      "nbconvert_exporter": "python",
      "pygments_lexer": "ipython3",
      "version": "3.8.3"
    }
  },
  "cells": [
    {
      "cell_type": "markdown",
      "metadata": {
        "id": "view-in-github",
        "colab_type": "text"
      },
      "source": [
        "<a href=\"https://colab.research.google.com/github/gabcab/AlgoritmosOptimizacion/blob/main/SeminarioAlgoritmosJoseGabrielCabreja.ipynb\" target=\"_parent\"><img src=\"https://colab.research.google.com/assets/colab-badge.svg\" alt=\"Open In Colab\"/></a>"
      ]
    },
    {
      "cell_type": "code",
      "metadata": {
        "id": "AiskKkzZfy4e"
      },
      "source": [
        ""
      ],
      "execution_count": 26,
      "outputs": []
    },
    {
      "cell_type": "markdown",
      "metadata": {
        "id": "hVbXYX-RfPWh"
      },
      "source": [
        "# Algoritmos de optimización - Seminario<br>\n",
        "Nombre y Apellidos: José Gabriel Cabreja Marzán  <br>\n",
        "Url: https://github.com/gabcab/AlgoritmosOptimizacion/blob/main/SeminarioAlgoritmosJos%C3%A9GabrielCabreja.ipynb <br>\n",
        "Problema:\n",
        ">1. Combinar cifras y operaciones\n",
        "\n",
        "Descripción del problema:\n",
        "\n",
        "- El problema consiste en analizar el siguiente problema y diseñar un algoritmo que lo resuelva.<br>\n",
        "- Disponemos de las 9 cifras del 1 al 9 (excluimos el cero) y de los 4 signos básicos de las operaciones fundamentales: suma(+), resta(-), multiplicación(*) y división(/)<br>\n",
        "- Debemos combinarlos alternativamente sin repetir ninguno de ellos para obtener una cantidad dada. <br>\n",
        "Un ejemplo sería para obtener el 4:<br>\n",
        "<b><center>4+2-6/3*1 = 4</center></b>\n",
        "\n",
        "\n",
        "(*) La respuesta es obligatoria\n",
        "\n",
        "\n",
        "\n",
        "\n",
        "\n",
        "                                        "
      ]
    },
    {
      "cell_type": "markdown",
      "metadata": {
        "id": "3_-exlrTgLd-"
      },
      "source": [
        "(*)¿Cuantas posibilidades hay sin tener en cuenta las restricciones?<br>\n",
        "<center>\n",
        "C (13,9) = n! / x! (n – x)! <br>\n",
        "n= 13 <br>\n",
        "x= variable <br>\n",
        "13! / 1! (13 – 1)! = <b>2.982752926×10¹⁸</b><br>\n",
        "13! / 2! (13 – 2)! = <b>1.242813719×10¹⁷</b><br>\n",
        "13! / 3! (13 – 3)! = <b>3.76610218×10¹⁵</b><br>\n",
        "13! / 4! (13 – 4)! = <b>9.41525545×10¹³</b><br>\n",
        "</center>\n",
        "<br>\n",
        "¿Cuantas posibilidades hay teniendo en cuenta todas las restricciones.\n",
        "<center>\n",
        "C (13,9) = n! / x! (n – x)! <br>\n",
        "n= 13 <br>\n",
        "x= 9 <br>\n",
        "13! / 9! (13 – 9)! = 13!/9!*4!=<b>411840</b>\n",
        "</center>\n",
        "<br>\n",
        "Según esta formula para calcular el # de combinaciones posible existe <b>411840</b> pero en la realidad el tiempo sube exageradamente luego del número <b>96</b> ya que en nuestro caso no solo se trata del número de combinaciones sino de encontrar un resultado con dichas combinaciones. Noté que el algoritmo mejoraba si se agregaban más números entre los que poder escoger (agregué el 10 y las corridas luego del 96 funcionaban perfectamente).\n",
        "\n",
        "\n"
      ]
    },
    {
      "cell_type": "markdown",
      "metadata": {
        "id": "WfCUqJyKhPcw"
      },
      "source": [
        "Respuesta"
      ]
    },
    {
      "cell_type": "markdown",
      "metadata": {
        "id": "dzynfVJahHoY"
      },
      "source": [
        "Modelo para el espacio de soluciones<br>\n",
        "(*) ¿Cual es la estructura de datos que mejor se adapta al problema? Argumentalo.(Es posible que hayas elegido una al principio y veas la necesidad de cambiar, arguentalo)\n"
      ]
    },
    {
      "cell_type": "markdown",
      "metadata": {
        "id": "xFIJrOwKi2Ti"
      },
      "source": [
        "Respuesta\n",
        "\n",
        "La estructura datos utilizadas en su mayoría fueron arreglos para guardar los resultados y para crear las fórmulas. Al final uso un dataframe para mostrar los resultados en una tabla HTML."
      ]
    },
    {
      "cell_type": "code",
      "metadata": {
        "id": "38c-7-ejhJmA"
      },
      "source": [
        ""
      ],
      "execution_count": 26,
      "outputs": []
    },
    {
      "cell_type": "markdown",
      "metadata": {
        "id": "7Z9U2W7bi-XS"
      },
      "source": [
        "Según el modelo para el espacio de soluciones<br>\n",
        "(*)¿Cual es la función objetivo?\n",
        "\n"
      ]
    },
    {
      "cell_type": "code",
      "metadata": {
        "id": "aJuuFXL4KrGV"
      },
      "source": [
        "import random\n",
        "import numpy as np\n",
        "\n",
        "#Genera ecuación con números y signos aleatorios\n",
        "def generarEcuacion():\n",
        "    \"\"\"\n",
        "    Funcion que genera ecuación aleatoria\n",
        "\n",
        "    :return: ecuación(str)\n",
        "    \"\"\"\n",
        "    outputList = []\n",
        "    lista = [\"num\", \"sign\", \"num\", \"sign\", \"num\", \"sign\", \"num\", \"sign\", \"num\"]\n",
        "    signs = ['+', '-', '*', '/']\n",
        "    \n",
        "    for item in lista:\n",
        "        elemento=''\n",
        "        if item == \"num\":\n",
        "            while True:\n",
        "                elemento = random.randint(1, 10)\n",
        "                if elemento not in outputList:\n",
        "                    outputList.append(elemento)\n",
        "                    break\n",
        "        else:\n",
        "            while True:\n",
        "                #elemento = np.random.choice(signs)\n",
        "                elemento = random.choice(signs)\n",
        "                #elemento = np.random.default_rng().choice(signs)\n",
        "                if elemento not in outputList:\n",
        "                    outputList.append(elemento)\n",
        "                    break\n",
        "                    \n",
        "    listToStr = ''.join([str(elem) for elem in outputList])\n",
        "    return listToStr"
      ],
      "execution_count": 27,
      "outputs": []
    },
    {
      "cell_type": "markdown",
      "metadata": {
        "id": "aB1YQG5iKsuc"
      },
      "source": [
        "(*)¿Es un problema de maximización o minimización?"
      ]
    },
    {
      "cell_type": "markdown",
      "metadata": {
        "id": "hBalWLM7j1_d"
      },
      "source": [
        "Respuesta"
      ]
    },
    {
      "cell_type": "markdown",
      "metadata": {
        "id": "NS3F1anzLuOu"
      },
      "source": [
        "Minimización"
      ]
    },
    {
      "cell_type": "markdown",
      "metadata": {
        "id": "e7zRbaGhLp4p"
      },
      "source": [
        ""
      ]
    },
    {
      "cell_type": "markdown",
      "metadata": {
        "id": "rlnTYgY1j6I2"
      },
      "source": [
        "Diseña un algoritmo para resolver el problema por fuerza bruta"
      ]
    },
    {
      "cell_type": "markdown",
      "metadata": {
        "id": "70rDgxYXkC8r"
      },
      "source": [
        "Respuesta"
      ]
    },
    {
      "cell_type": "code",
      "metadata": {
        "id": "CJb5sQ0qkENy"
      },
      "source": [
        "import random\n",
        "import numpy as np\n",
        "\n",
        "#NO USADA POR BAJO PERFORMANCE\n",
        "def generarEcuacion2():\n",
        "    \"\"\"\n",
        "    Genera ecuación con números y signos aleatorios, igual que la anterior (No usada por bajo PERFORMANCE con #s > a 75)\n",
        "    :return: ecuación(str)\n",
        "    \"\"\"\n",
        "    signs = ['+', '-', '*', '/']\n",
        "    num = ['1', '2', '3', '4', '5', '6', '7', '8', '9']\n",
        "    numeros =np.random.default_rng().choice(num, 5, replace=False)\n",
        "    signos = np.random.default_rng().choice(signs, 4, replace=False)\n",
        "    signos = np.append(signos, '')\n",
        "    lista = np.column_stack((numeros, signos)).reshape(10)\n",
        "    return ''.join([str(elem) for elem in lista])\n",
        "\n",
        "\n"
      ],
      "execution_count": 28,
      "outputs": []
    },
    {
      "cell_type": "code",
      "metadata": {
        "id": "OWQa6CpIpfuW"
      },
      "source": [
        "def encontrarEcuacion(minimo, maximo, intentos=50000):\n",
        "    \"\"\"\n",
        "    Función que evalúa con recursividad si el la función devulta por generarEcuacion2() al ser evaluada coincide con un # específico.\n",
        "\n",
        "    :param minimo: valor mínimo\n",
        "    :param maximo: valor máximo\n",
        "    :param intentos: # de intentos para encontrar el valor buscado\n",
        "    :return: lista de ecuaciones, valor e intentos\n",
        "    \"\"\" \n",
        "    res=0\n",
        "    ecuacion=''\n",
        "    contador=0\n",
        "    \n",
        "    #Creo una array con X filas y 3 columnas, col[0]=ecuacion, col[1]=Numero, col[2]=intentos\n",
        "    outputList=np.full((maximo,3), \"\", dtype=object)\n",
        "\n",
        "    for num in range(minimo, maximo+1):\n",
        "        #print(num)\n",
        "        contador=0\n",
        "        while res !=num:\n",
        "            contador+=1\n",
        "            #Genera la ecuación\n",
        "            #ecuacion = generarEcuacion()\n",
        "            ecuacion = generarEcuacion2()\n",
        "            res=eval(ecuacion)\n",
        "            if contador >= intentos:\n",
        "                ecuacion='No Encontrada'\n",
        "                break\n",
        "        \n",
        "        outputList[num-1][0] = ecuacion\n",
        "        outputList[num-1][1] = num\n",
        "        outputList[num-1][2] = contador\n",
        "    \n",
        "    return outputList"
      ],
      "execution_count": 29,
      "outputs": []
    },
    {
      "cell_type": "code",
      "metadata": {
        "colab": {
          "base_uri": "https://localhost:8080/",
          "height": 1000
        },
        "id": "5wYOQlqpphEn",
        "outputId": "80a5f5ba-84dd-40a1-ea3f-9689e2deb1db"
      },
      "source": [
        "import pandas as pd\n",
        "from IPython.display import display, HTML\n",
        "#Se llama la funcion para generar un rango de ecuaciones\n",
        "data = encontrarEcuacion(1,95, 20000)\n",
        "#Elimino filas en blanco\n",
        "data = data[~np.all(data == '', axis=1)]\n",
        "\n",
        "#Utilizo panda solo para imprimir\n",
        "dataset = pd.DataFrame({'Ecuacion': data[:, 0], 'Valor': data[:, 1], 'Intentos': data[:, 2]})\n",
        "\n",
        "display(HTML(dataset.to_html()))"
      ],
      "execution_count": 30,
      "outputs": [
        {
          "output_type": "display_data",
          "data": {
            "text/html": [
              "<table border=\"1\" class=\"dataframe\">\n",
              "  <thead>\n",
              "    <tr style=\"text-align: right;\">\n",
              "      <th></th>\n",
              "      <th>Ecuacion</th>\n",
              "      <th>Valor</th>\n",
              "      <th>Intentos</th>\n",
              "    </tr>\n",
              "  </thead>\n",
              "  <tbody>\n",
              "    <tr>\n",
              "      <th>0</th>\n",
              "      <td>8+5-9*4/3</td>\n",
              "      <td>1</td>\n",
              "      <td>318</td>\n",
              "    </tr>\n",
              "    <tr>\n",
              "      <th>1</th>\n",
              "      <td>1-8/6*3+5</td>\n",
              "      <td>2</td>\n",
              "      <td>59</td>\n",
              "    </tr>\n",
              "    <tr>\n",
              "      <th>2</th>\n",
              "      <td>5/1+4-2*3</td>\n",
              "      <td>3</td>\n",
              "      <td>38</td>\n",
              "    </tr>\n",
              "    <tr>\n",
              "      <th>3</th>\n",
              "      <td>7-4/2*6+9</td>\n",
              "      <td>4</td>\n",
              "      <td>11</td>\n",
              "    </tr>\n",
              "    <tr>\n",
              "      <th>4</th>\n",
              "      <td>8/2+1*5-4</td>\n",
              "      <td>5</td>\n",
              "      <td>470</td>\n",
              "    </tr>\n",
              "    <tr>\n",
              "      <th>5</th>\n",
              "      <td>4*6/2+1-7</td>\n",
              "      <td>6</td>\n",
              "      <td>321</td>\n",
              "    </tr>\n",
              "    <tr>\n",
              "      <th>6</th>\n",
              "      <td>5-6/1+2*4</td>\n",
              "      <td>7</td>\n",
              "      <td>171</td>\n",
              "    </tr>\n",
              "    <tr>\n",
              "      <th>7</th>\n",
              "      <td>2*3+9-7/1</td>\n",
              "      <td>8</td>\n",
              "      <td>18</td>\n",
              "    </tr>\n",
              "    <tr>\n",
              "      <th>8</th>\n",
              "      <td>2+9-3/6*4</td>\n",
              "      <td>9</td>\n",
              "      <td>64</td>\n",
              "    </tr>\n",
              "    <tr>\n",
              "      <th>9</th>\n",
              "      <td>2/1-7+3*5</td>\n",
              "      <td>10</td>\n",
              "      <td>6</td>\n",
              "    </tr>\n",
              "    <tr>\n",
              "      <th>10</th>\n",
              "      <td>8+7-2/3*6</td>\n",
              "      <td>11</td>\n",
              "      <td>498</td>\n",
              "    </tr>\n",
              "    <tr>\n",
              "      <th>11</th>\n",
              "      <td>8+5*2-6/1</td>\n",
              "      <td>12</td>\n",
              "      <td>277</td>\n",
              "    </tr>\n",
              "    <tr>\n",
              "      <th>12</th>\n",
              "      <td>5/2*6-9+7</td>\n",
              "      <td>13</td>\n",
              "      <td>103</td>\n",
              "    </tr>\n",
              "    <tr>\n",
              "      <th>13</th>\n",
              "      <td>6*3+4-8/1</td>\n",
              "      <td>14</td>\n",
              "      <td>163</td>\n",
              "    </tr>\n",
              "    <tr>\n",
              "      <th>14</th>\n",
              "      <td>7*2+4-9/3</td>\n",
              "      <td>15</td>\n",
              "      <td>233</td>\n",
              "    </tr>\n",
              "    <tr>\n",
              "      <th>15</th>\n",
              "      <td>9+4*5/2-3</td>\n",
              "      <td>16</td>\n",
              "      <td>426</td>\n",
              "    </tr>\n",
              "    <tr>\n",
              "      <th>16</th>\n",
              "      <td>4+5*8/2-7</td>\n",
              "      <td>17</td>\n",
              "      <td>258</td>\n",
              "    </tr>\n",
              "    <tr>\n",
              "      <th>17</th>\n",
              "      <td>7-4+3/1*5</td>\n",
              "      <td>18</td>\n",
              "      <td>667</td>\n",
              "    </tr>\n",
              "    <tr>\n",
              "      <th>18</th>\n",
              "      <td>6-5+9/4*8</td>\n",
              "      <td>19</td>\n",
              "      <td>181</td>\n",
              "    </tr>\n",
              "    <tr>\n",
              "      <th>19</th>\n",
              "      <td>9-4/1+5*3</td>\n",
              "      <td>20</td>\n",
              "      <td>375</td>\n",
              "    </tr>\n",
              "    <tr>\n",
              "      <th>20</th>\n",
              "      <td>6*3+7/1-4</td>\n",
              "      <td>21</td>\n",
              "      <td>366</td>\n",
              "    </tr>\n",
              "    <tr>\n",
              "      <th>21</th>\n",
              "      <td>4*6+9/3-5</td>\n",
              "      <td>22</td>\n",
              "      <td>89</td>\n",
              "    </tr>\n",
              "    <tr>\n",
              "      <th>22</th>\n",
              "      <td>4/2*9-3+8</td>\n",
              "      <td>23</td>\n",
              "      <td>309</td>\n",
              "    </tr>\n",
              "    <tr>\n",
              "      <th>23</th>\n",
              "      <td>8+7/3*9-5</td>\n",
              "      <td>24</td>\n",
              "      <td>36</td>\n",
              "    </tr>\n",
              "    <tr>\n",
              "      <th>24</th>\n",
              "      <td>6/1*4-8+9</td>\n",
              "      <td>25</td>\n",
              "      <td>320</td>\n",
              "    </tr>\n",
              "    <tr>\n",
              "      <th>25</th>\n",
              "      <td>6/2+3*9-4</td>\n",
              "      <td>26</td>\n",
              "      <td>5</td>\n",
              "    </tr>\n",
              "    <tr>\n",
              "      <th>26</th>\n",
              "      <td>4*6-1+8/2</td>\n",
              "      <td>27</td>\n",
              "      <td>228</td>\n",
              "    </tr>\n",
              "    <tr>\n",
              "      <th>27</th>\n",
              "      <td>3*9-6/1+7</td>\n",
              "      <td>28</td>\n",
              "      <td>338</td>\n",
              "    </tr>\n",
              "    <tr>\n",
              "      <th>28</th>\n",
              "      <td>5*7+6/2-9</td>\n",
              "      <td>29</td>\n",
              "      <td>22</td>\n",
              "    </tr>\n",
              "    <tr>\n",
              "      <th>29</th>\n",
              "      <td>7-1+9/3*8</td>\n",
              "      <td>30</td>\n",
              "      <td>90</td>\n",
              "    </tr>\n",
              "    <tr>\n",
              "      <th>30</th>\n",
              "      <td>8+5/1*6-7</td>\n",
              "      <td>31</td>\n",
              "      <td>92</td>\n",
              "    </tr>\n",
              "    <tr>\n",
              "      <th>31</th>\n",
              "      <td>6/2+8*4-3</td>\n",
              "      <td>32</td>\n",
              "      <td>1720</td>\n",
              "    </tr>\n",
              "    <tr>\n",
              "      <th>32</th>\n",
              "      <td>6-5+8*4/1</td>\n",
              "      <td>33</td>\n",
              "      <td>519</td>\n",
              "    </tr>\n",
              "    <tr>\n",
              "      <th>33</th>\n",
              "      <td>8*4+6/2-1</td>\n",
              "      <td>34</td>\n",
              "      <td>532</td>\n",
              "    </tr>\n",
              "    <tr>\n",
              "      <th>34</th>\n",
              "      <td>2-8/4+5*7</td>\n",
              "      <td>35</td>\n",
              "      <td>21</td>\n",
              "    </tr>\n",
              "    <tr>\n",
              "      <th>35</th>\n",
              "      <td>3/1+7*6-9</td>\n",
              "      <td>36</td>\n",
              "      <td>2</td>\n",
              "    </tr>\n",
              "    <tr>\n",
              "      <th>36</th>\n",
              "      <td>4+8*5-7/1</td>\n",
              "      <td>37</td>\n",
              "      <td>117</td>\n",
              "    </tr>\n",
              "    <tr>\n",
              "      <th>37</th>\n",
              "      <td>1+8*5-6/2</td>\n",
              "      <td>38</td>\n",
              "      <td>1872</td>\n",
              "    </tr>\n",
              "    <tr>\n",
              "      <th>38</th>\n",
              "      <td>9*4+5/1-2</td>\n",
              "      <td>39</td>\n",
              "      <td>104</td>\n",
              "    </tr>\n",
              "    <tr>\n",
              "      <th>39</th>\n",
              "      <td>4*9/1-3+7</td>\n",
              "      <td>40</td>\n",
              "      <td>393</td>\n",
              "    </tr>\n",
              "    <tr>\n",
              "      <th>40</th>\n",
              "      <td>7*6/1-5+4</td>\n",
              "      <td>41</td>\n",
              "      <td>164</td>\n",
              "    </tr>\n",
              "    <tr>\n",
              "      <th>41</th>\n",
              "      <td>8*5-1+9/3</td>\n",
              "      <td>42</td>\n",
              "      <td>346</td>\n",
              "    </tr>\n",
              "    <tr>\n",
              "      <th>42</th>\n",
              "      <td>4/1+6*8-9</td>\n",
              "      <td>43</td>\n",
              "      <td>454</td>\n",
              "    </tr>\n",
              "    <tr>\n",
              "      <th>43</th>\n",
              "      <td>3+5*9-4/1</td>\n",
              "      <td>44</td>\n",
              "      <td>163</td>\n",
              "    </tr>\n",
              "    <tr>\n",
              "      <th>44</th>\n",
              "      <td>8/1-5+6*7</td>\n",
              "      <td>45</td>\n",
              "      <td>694</td>\n",
              "    </tr>\n",
              "    <tr>\n",
              "      <th>45</th>\n",
              "      <td>5+6/1*8-7</td>\n",
              "      <td>46</td>\n",
              "      <td>523</td>\n",
              "    </tr>\n",
              "    <tr>\n",
              "      <th>46</th>\n",
              "      <td>9/1*5+4-2</td>\n",
              "      <td>47</td>\n",
              "      <td>204</td>\n",
              "    </tr>\n",
              "    <tr>\n",
              "      <th>47</th>\n",
              "      <td>6*9-8+2/1</td>\n",
              "      <td>48</td>\n",
              "      <td>438</td>\n",
              "    </tr>\n",
              "    <tr>\n",
              "      <th>48</th>\n",
              "      <td>8*6/1-3+4</td>\n",
              "      <td>49</td>\n",
              "      <td>172</td>\n",
              "    </tr>\n",
              "    <tr>\n",
              "      <th>49</th>\n",
              "      <td>6*9+3/1-7</td>\n",
              "      <td>50</td>\n",
              "      <td>915</td>\n",
              "    </tr>\n",
              "    <tr>\n",
              "      <th>50</th>\n",
              "      <td>5-2+8*6/1</td>\n",
              "      <td>51</td>\n",
              "      <td>144</td>\n",
              "    </tr>\n",
              "    <tr>\n",
              "      <th>51</th>\n",
              "      <td>8*6+9/1-5</td>\n",
              "      <td>52</td>\n",
              "      <td>1770</td>\n",
              "    </tr>\n",
              "    <tr>\n",
              "      <th>52</th>\n",
              "      <td>9*6+3/1-4</td>\n",
              "      <td>53</td>\n",
              "      <td>477</td>\n",
              "    </tr>\n",
              "    <tr>\n",
              "      <th>53</th>\n",
              "      <td>8*7+3/1-5</td>\n",
              "      <td>54</td>\n",
              "      <td>3319</td>\n",
              "    </tr>\n",
              "    <tr>\n",
              "      <th>54</th>\n",
              "      <td>6*9/1-7+8</td>\n",
              "      <td>55</td>\n",
              "      <td>1415</td>\n",
              "    </tr>\n",
              "    <tr>\n",
              "      <th>55</th>\n",
              "      <td>7/1+6*9-5</td>\n",
              "      <td>56</td>\n",
              "      <td>104</td>\n",
              "    </tr>\n",
              "    <tr>\n",
              "      <th>56</th>\n",
              "      <td>8/1*7+3-2</td>\n",
              "      <td>57</td>\n",
              "      <td>2814</td>\n",
              "    </tr>\n",
              "    <tr>\n",
              "      <th>57</th>\n",
              "      <td>7*9+3/1-8</td>\n",
              "      <td>58</td>\n",
              "      <td>129</td>\n",
              "    </tr>\n",
              "    <tr>\n",
              "      <th>58</th>\n",
              "      <td>7*9+4-8/1</td>\n",
              "      <td>59</td>\n",
              "      <td>318</td>\n",
              "    </tr>\n",
              "    <tr>\n",
              "      <th>59</th>\n",
              "      <td>7*8+9/1-5</td>\n",
              "      <td>60</td>\n",
              "      <td>1213</td>\n",
              "    </tr>\n",
              "    <tr>\n",
              "      <th>60</th>\n",
              "      <td>8*7/1-4+9</td>\n",
              "      <td>61</td>\n",
              "      <td>2726</td>\n",
              "    </tr>\n",
              "    <tr>\n",
              "      <th>61</th>\n",
              "      <td>1+7*9-4/2</td>\n",
              "      <td>62</td>\n",
              "      <td>3383</td>\n",
              "    </tr>\n",
              "    <tr>\n",
              "      <th>62</th>\n",
              "      <td>9*7+6/3-2</td>\n",
              "      <td>63</td>\n",
              "      <td>3489</td>\n",
              "    </tr>\n",
              "    <tr>\n",
              "      <th>63</th>\n",
              "      <td>4-3+9*7/1</td>\n",
              "      <td>64</td>\n",
              "      <td>347</td>\n",
              "    </tr>\n",
              "    <tr>\n",
              "      <th>64</th>\n",
              "      <td>9*7-6/3+4</td>\n",
              "      <td>65</td>\n",
              "      <td>3558</td>\n",
              "    </tr>\n",
              "    <tr>\n",
              "      <th>65</th>\n",
              "      <td>6/1-3+9*7</td>\n",
              "      <td>66</td>\n",
              "      <td>1236</td>\n",
              "    </tr>\n",
              "    <tr>\n",
              "      <th>66</th>\n",
              "      <td>6+7*9-8/4</td>\n",
              "      <td>67</td>\n",
              "      <td>5508</td>\n",
              "    </tr>\n",
              "    <tr>\n",
              "      <th>67</th>\n",
              "      <td>9*7/1+8-3</td>\n",
              "      <td>68</td>\n",
              "      <td>1958</td>\n",
              "    </tr>\n",
              "    <tr>\n",
              "      <th>68</th>\n",
              "      <td>8*9-7/1+4</td>\n",
              "      <td>69</td>\n",
              "      <td>2354</td>\n",
              "    </tr>\n",
              "    <tr>\n",
              "      <th>69</th>\n",
              "      <td>8*9+1-6/2</td>\n",
              "      <td>70</td>\n",
              "      <td>115</td>\n",
              "    </tr>\n",
              "    <tr>\n",
              "      <th>70</th>\n",
              "      <td>6-7+8/1*9</td>\n",
              "      <td>71</td>\n",
              "      <td>2450</td>\n",
              "    </tr>\n",
              "    <tr>\n",
              "      <th>71</th>\n",
              "      <td>6/3+9*8-2</td>\n",
              "      <td>72</td>\n",
              "      <td>4015</td>\n",
              "    </tr>\n",
              "    <tr>\n",
              "      <th>72</th>\n",
              "      <td>3+8*9/1-2</td>\n",
              "      <td>73</td>\n",
              "      <td>555</td>\n",
              "    </tr>\n",
              "    <tr>\n",
              "      <th>73</th>\n",
              "      <td>6-4/1+9*8</td>\n",
              "      <td>74</td>\n",
              "      <td>2252</td>\n",
              "    </tr>\n",
              "    <tr>\n",
              "      <th>74</th>\n",
              "      <td>9*8/1-4+7</td>\n",
              "      <td>75</td>\n",
              "      <td>3647</td>\n",
              "    </tr>\n",
              "    <tr>\n",
              "      <th>75</th>\n",
              "      <td>9*8/1+6-2</td>\n",
              "      <td>76</td>\n",
              "      <td>2980</td>\n",
              "    </tr>\n",
              "    <tr>\n",
              "      <th>76</th>\n",
              "      <td>9*8+7-4/2</td>\n",
              "      <td>77</td>\n",
              "      <td>3229</td>\n",
              "    </tr>\n",
              "    <tr>\n",
              "      <th>77</th>\n",
              "      <td>No Encontrada</td>\n",
              "      <td>78</td>\n",
              "      <td>20000</td>\n",
              "    </tr>\n",
              "    <tr>\n",
              "      <th>78</th>\n",
              "      <td>No Encontrada</td>\n",
              "      <td>79</td>\n",
              "      <td>20000</td>\n",
              "    </tr>\n",
              "    <tr>\n",
              "      <th>79</th>\n",
              "      <td>No Encontrada</td>\n",
              "      <td>80</td>\n",
              "      <td>20000</td>\n",
              "    </tr>\n",
              "    <tr>\n",
              "      <th>80</th>\n",
              "      <td>No Encontrada</td>\n",
              "      <td>81</td>\n",
              "      <td>20000</td>\n",
              "    </tr>\n",
              "    <tr>\n",
              "      <th>81</th>\n",
              "      <td>No Encontrada</td>\n",
              "      <td>82</td>\n",
              "      <td>20000</td>\n",
              "    </tr>\n",
              "    <tr>\n",
              "      <th>82</th>\n",
              "      <td>No Encontrada</td>\n",
              "      <td>83</td>\n",
              "      <td>20000</td>\n",
              "    </tr>\n",
              "    <tr>\n",
              "      <th>83</th>\n",
              "      <td>No Encontrada</td>\n",
              "      <td>84</td>\n",
              "      <td>20000</td>\n",
              "    </tr>\n",
              "    <tr>\n",
              "      <th>84</th>\n",
              "      <td>No Encontrada</td>\n",
              "      <td>85</td>\n",
              "      <td>20000</td>\n",
              "    </tr>\n",
              "    <tr>\n",
              "      <th>85</th>\n",
              "      <td>No Encontrada</td>\n",
              "      <td>86</td>\n",
              "      <td>20000</td>\n",
              "    </tr>\n",
              "    <tr>\n",
              "      <th>86</th>\n",
              "      <td>No Encontrada</td>\n",
              "      <td>87</td>\n",
              "      <td>20000</td>\n",
              "    </tr>\n",
              "    <tr>\n",
              "      <th>87</th>\n",
              "      <td>No Encontrada</td>\n",
              "      <td>88</td>\n",
              "      <td>20000</td>\n",
              "    </tr>\n",
              "    <tr>\n",
              "      <th>88</th>\n",
              "      <td>No Encontrada</td>\n",
              "      <td>89</td>\n",
              "      <td>20000</td>\n",
              "    </tr>\n",
              "    <tr>\n",
              "      <th>89</th>\n",
              "      <td>No Encontrada</td>\n",
              "      <td>90</td>\n",
              "      <td>20000</td>\n",
              "    </tr>\n",
              "    <tr>\n",
              "      <th>90</th>\n",
              "      <td>No Encontrada</td>\n",
              "      <td>91</td>\n",
              "      <td>20000</td>\n",
              "    </tr>\n",
              "    <tr>\n",
              "      <th>91</th>\n",
              "      <td>No Encontrada</td>\n",
              "      <td>92</td>\n",
              "      <td>20000</td>\n",
              "    </tr>\n",
              "    <tr>\n",
              "      <th>92</th>\n",
              "      <td>No Encontrada</td>\n",
              "      <td>93</td>\n",
              "      <td>20000</td>\n",
              "    </tr>\n",
              "    <tr>\n",
              "      <th>93</th>\n",
              "      <td>No Encontrada</td>\n",
              "      <td>94</td>\n",
              "      <td>20000</td>\n",
              "    </tr>\n",
              "    <tr>\n",
              "      <th>94</th>\n",
              "      <td>No Encontrada</td>\n",
              "      <td>95</td>\n",
              "      <td>20000</td>\n",
              "    </tr>\n",
              "  </tbody>\n",
              "</table>"
            ],
            "text/plain": [
              "<IPython.core.display.HTML object>"
            ]
          },
          "metadata": {
            "tags": []
          }
        }
      ]
    },
    {
      "cell_type": "markdown",
      "metadata": {
        "id": "tgrnsC2nkFa8"
      },
      "source": [
        "Calcula la complejidad del algoritmo por fuerza bruta: <b>O(n^2)</b>"
      ]
    },
    {
      "cell_type": "markdown",
      "metadata": {
        "id": "9eUd3xwckP68"
      },
      "source": [
        "Respuesta"
      ]
    },
    {
      "cell_type": "code",
      "metadata": {
        "id": "rvZWwL-ckRST",
        "colab": {
          "base_uri": "https://localhost:8080/"
        },
        "outputId": "3226fab0-694b-40cd-8875-350ff5e5b92a"
      },
      "source": [
        "from time import time\n",
        "import pandas as pd\n",
        "from IPython.display import display, HTML\n",
        "\n",
        "datosEntrada = [[1,  20], [ 1,  50], [1, 70], [1, 95]]\n",
        "for x in datosEntrada:\n",
        "    print(f'Datos de entrada: {x}, Intentos: 2000')\n",
        "    start_time = time()\n",
        "    #Se llama la funcion para generar un rango de ecuaciones\n",
        "    data = encontrarEcuacion(x[0],x[1], 20000)\n",
        "    #Elimino filas en blanco\n",
        "    data = data[~np.all(data == '', axis=1)]\n",
        "    elapseTime = time() - start_time\n",
        "    print(f\"======= Tiempo de ejecución: {elapseTime} =======\")\n"
      ],
      "execution_count": null,
      "outputs": [
        {
          "output_type": "stream",
          "text": [
            "Datos de entrada: [1, 20], Intentos: 2000\n",
            "======= Tiempo de ejecución: 0.668764591217041 =======\n",
            "Datos de entrada: [1, 50], Intentos: 2000\n",
            "======= Tiempo de ejecución: 4.488668918609619 =======\n",
            "Datos de entrada: [1, 70], Intentos: 2000\n",
            "======= Tiempo de ejecución: 14.550047636032104 =======\n",
            "Datos de entrada: [1, 95], Intentos: 2000\n"
          ],
          "name": "stdout"
        }
      ]
    },
    {
      "cell_type": "markdown",
      "metadata": {
        "id": "txbrmLmskReM"
      },
      "source": [
        "(*)Diseña un algoritmo que mejore la complejidad del algortimo por fuerza bruta. Argumenta porque crees que mejora el algoritmo por fuerza bruta"
      ]
    },
    {
      "cell_type": "markdown",
      "metadata": {
        "id": "hLrVwt5QkZPD"
      },
      "source": [
        "Respuesta"
      ]
    },
    {
      "cell_type": "code",
      "metadata": {
        "id": "-GpZieZk-Lgs"
      },
      "source": [
        "import random\n",
        "import numpy as np\n",
        "\n",
        "#Genera ecuación con números y signos aleatorios\n",
        "def generarEcuacion():\n",
        "    \"\"\"\n",
        "    Funcion que genera ecuación aleatoria\n",
        "\n",
        "    :return: ecuación(str)\n",
        "    \"\"\"\n",
        "    outputList = []\n",
        "    lista = [\"num\", \"sign\", \"num\", \"sign\", \"num\", \"sign\", \"num\", \"sign\", \"num\"]\n",
        "    signs = ['+', '-', '*', '/']\n",
        "    \n",
        "    for item in lista:\n",
        "        elemento=''\n",
        "        if item == \"num\":\n",
        "            while True:\n",
        "                elemento = random.randint(1, 10)\n",
        "                if elemento not in outputList:\n",
        "                    outputList.append(elemento)\n",
        "                    break\n",
        "        else:\n",
        "            while True:\n",
        "                #elemento = np.random.choice(signs)\n",
        "                elemento = random.choice(signs)\n",
        "                #elemento = np.random.default_rng().choice(signs)\n",
        "                if elemento not in outputList:\n",
        "                    outputList.append(elemento)\n",
        "                    break\n",
        "                    \n",
        "    listToStr = ''.join([str(elem) for elem in outputList])\n",
        "    return listToStr"
      ],
      "execution_count": null,
      "outputs": []
    },
    {
      "cell_type": "code",
      "metadata": {
        "id": "2IQm-5W2-Lg1"
      },
      "source": [
        "def encontrarEcuacion2(minimo, maximo, intentos=50000):\n",
        "    \"\"\"\n",
        "    Función que evalúa con recursividad si el la función devulta por generarEcuacion() al ser evaluada coincide con un # específico.\n",
        "\n",
        "    :param minimo: valor mínimo\n",
        "    :param maximo: valor máximo\n",
        "    :param intentos: # de intentos para encontrar el valor buscado\n",
        "    :return: lista de ecuaciones, valor e intentos\n",
        "    \"\"\" \n",
        "    res=0\n",
        "    ecuacion=''\n",
        "    contador=0\n",
        "    \n",
        "    #Creo una array con X filas y 3 columnas, col[0]=ecuacion, col[1]=Numero, col[2]=intentos\n",
        "    outputList=np.full((maximo,3), \"\", dtype=object)\n",
        "\n",
        "    for num in range(minimo, maximo+1):\n",
        "        #print(num)\n",
        "        contador=0\n",
        "        while res !=num:\n",
        "            contador+=1\n",
        "            #Genera la ecuación\n",
        "            ecuacion = generarEcuacion()\n",
        "            res=eval(ecuacion)\n",
        "            if contador >= intentos:\n",
        "                ecuacion='No Encontrada'\n",
        "                break\n",
        "        \n",
        "        outputList[num-1][0] = ecuacion\n",
        "        outputList[num-1][1] = num\n",
        "        outputList[num-1][2] = contador\n",
        "    \n",
        "    return outputList"
      ],
      "execution_count": null,
      "outputs": []
    },
    {
      "cell_type": "code",
      "metadata": {
        "id": "0Izjty2L-Lg2"
      },
      "source": [
        ""
      ],
      "execution_count": null,
      "outputs": []
    },
    {
      "cell_type": "markdown",
      "metadata": {
        "id": "eGDB4K6uk1iN"
      },
      "source": [
        "(*)Calcula la complejidad del algoritmo "
      ]
    },
    {
      "cell_type": "markdown",
      "metadata": {
        "id": "NhpTh_BPk1ms"
      },
      "source": [
        "Respuesta"
      ]
    },
    {
      "cell_type": "code",
      "metadata": {
        "id": "nREzhkStlCq8"
      },
      "source": [
        "from time import time\n",
        "import pandas as pd\n",
        "from IPython.display import display, HTML\n",
        "\n",
        "datosEntrada = [[1,  20], [ 1,  50], [1, 70], [1, 95]]\n",
        "for x in datosEntrada:\n",
        "    print(f'Datos de entrada: {x}, Intentos: 2000')\n",
        "    start_time = time()\n",
        "    #Se llama la funcion para generar un rango de ecuaciones\n",
        "    data = encontrarEcuacion2(x[0],x[1], 20000)\n",
        "    #Elimino filas en blanco\n",
        "    data = data[~np.all(data == '', axis=1)]\n",
        "    elapseTime = time() - start_time\n",
        "    print(f\"======= Tiempo de ejecución: {elapseTime} =======\")"
      ],
      "execution_count": null,
      "outputs": []
    },
    {
      "cell_type": "markdown",
      "metadata": {
        "id": "3M6QjTsSkmYe"
      },
      "source": [
        "Según el problema (y tenga sentido), diseña un juego de datos de entrada aleatorios"
      ]
    },
    {
      "cell_type": "markdown",
      "metadata": {
        "id": "Jc3_OlyNkvjZ"
      },
      "source": [
        "Respuesta"
      ]
    },
    {
      "cell_type": "code",
      "metadata": {
        "id": "sJ-N2etjkyWc"
      },
      "source": [
        "import pandas as pd\n",
        "from IPython.display import display, HTML\n",
        "for i in range(5):\n",
        "    minimo = random.randrange(1, 40)\n",
        "    maximo = random.randrange(41, 95)\n",
        "    print(f'\\n\\n\\nMínimo: {minimo} === Maximo: {maximo}')\n",
        "\n",
        "\n",
        "    #Se llama la funcion para generar un rango de ecuaciones\n",
        "    data = encontrarEcuacion2(minimo,maximo, 20000)\n",
        "    #Elimino filas en blanco\n",
        "    data = data[~np.all(data == '', axis=1)]\n",
        "\n",
        "    #Utilizo panda solo para imprimir\n",
        "    dataset = pd.DataFrame({'Ecuacion': data[:, 0], 'Valor': data[:, 1], 'Intentos': data[:, 2]})\n",
        "\n",
        "    display(HTML(dataset.to_html()))"
      ],
      "execution_count": null,
      "outputs": []
    },
    {
      "cell_type": "markdown",
      "metadata": {
        "id": "zy5ZROmjlGo1"
      },
      "source": [
        "Aplica el algoritmo al juego de datos generado"
      ]
    },
    {
      "cell_type": "markdown",
      "metadata": {
        "id": "_Cmj-PVylMsa"
      },
      "source": [
        "Respuesta: Hecho en el mismo punto donde se generaron los datos"
      ]
    },
    {
      "cell_type": "code",
      "metadata": {
        "id": "Jkx8GeiYlUz1"
      },
      "source": [
        ""
      ],
      "execution_count": null,
      "outputs": []
    },
    {
      "cell_type": "markdown",
      "metadata": {
        "id": "eTFWUJQrtGcv"
      },
      "source": [
        "Enumera las referencias que has utilizado(si ha sido necesario) para llevar a cabo el trabajo"
      ]
    },
    {
      "cell_type": "markdown",
      "metadata": {
        "id": "YKQ_mRBttWsP"
      },
      "source": [
        "Respuesta"
      ]
    },
    {
      "cell_type": "markdown",
      "metadata": {
        "id": "K_Pu9yLtEQuw"
      },
      "source": [
        "Sólo para cuestiones tecnicas usé StackOverFlow y la ayuda de python:\n",
        "\n",
        "https://stackoverflow.com/\n"
      ]
    },
    {
      "cell_type": "markdown",
      "metadata": {
        "id": "kAkDPUyRtYyH"
      },
      "source": [
        "Describe brevemente las lineas de como crees que es posible avanzar en el estudio del problema. Ten en cuenta incluso posibles variaciones del problema y/o variaciones al alza del tamaño"
      ]
    },
    {
      "cell_type": "markdown",
      "metadata": {
        "id": "IE0uZmo-tZu-"
      },
      "source": [
        "Respuesta"
      ]
    },
    {
      "cell_type": "markdown",
      "metadata": {
        "id": "fR62Je5QBQbx"
      },
      "source": [
        "Para evitar ciclos de redundancia en búsqueda de un valor, si los valores generados no coinciden pero están dentro del rango de búsqueda se inserten(ejemplo si el rango de búsqueda de ecuaciones es 1-10 y la ecución generada es para el #4 pero la generada no coincide pero el valor es el #8 se inserta, así cuando toque buscar el 8 se ahorrarían recursividad)."
      ]
    }
  ]
}